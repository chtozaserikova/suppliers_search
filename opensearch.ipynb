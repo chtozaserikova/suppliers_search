{
 "cells": [
  {
   "cell_type": "code",
   "execution_count": 1,
   "metadata": {},
   "outputs": [],
   "source": [
    "import pandas as pd"
   ]
  },
  {
   "cell_type": "code",
   "execution_count": 2,
   "metadata": {},
   "outputs": [
    {
     "data": {
      "text/plain": [
       "{'name': '29fc2280ba91',\n",
       " 'cluster_name': 'docker-cluster',\n",
       " 'cluster_uuid': 'gl9GOCGSQDGvLcL0YqBAvw',\n",
       " 'version': {'distribution': 'opensearch',\n",
       "  'number': '2.13.0',\n",
       "  'build_type': 'tar',\n",
       "  'build_hash': '7ec678d1b7c87d6e779fdef94e33623e1f1e2647',\n",
       "  'build_date': '2024-03-26T00:02:39.659767978Z',\n",
       "  'build_snapshot': False,\n",
       "  'lucene_version': '9.10.0',\n",
       "  'minimum_wire_compatibility_version': '7.10.0',\n",
       "  'minimum_index_compatibility_version': '7.0.0'},\n",
       " 'tagline': 'The OpenSearch Project: https://opensearch.org/'}"
      ]
     },
     "execution_count": 2,
     "metadata": {},
     "output_type": "execute_result"
    }
   ],
   "source": [
    "from opensearchpy import OpenSearch\n",
    "\n",
    "client = OpenSearch(\n",
    "    hosts = [{\"host\": \"localhost\", \"port\": 9200}],\n",
    "    http_auth = (\"admin\", \"6Wk1Cny30WOH\"),\n",
    "    use_ssl = True,\n",
    "    verify_certs = False,\n",
    "    ssl_assert_hostname = False,\n",
    "    ssl_show_warn = False,\n",
    ")\n",
    "client.info()"
   ]
  },
  {
   "cell_type": "code",
   "execution_count": 3,
   "metadata": {},
   "outputs": [
    {
     "name": "stdout",
     "output_type": "stream",
     "text": [
      "Успешное подключение к базе данных PostgreSQL\n"
     ]
    }
   ],
   "source": [
    "import psycopg2\n",
    "import pandas as pd\n",
    "\n",
    "# Параметры подключения к базе данных\n",
    "dbname = 'postgres'\n",
    "user = 'serikova'\n",
    "password = '12345'\n",
    "host = '127.0.0.1'\n",
    "port = '5432'\n",
    "\n",
    "# Подключение к базе данных\n",
    "try:\n",
    "    conn = psycopg2.connect(\n",
    "        dbname=dbname,\n",
    "        user=user,\n",
    "        password=password,\n",
    "        host=host,\n",
    "        port=port\n",
    "    )\n",
    "    print(\"Успешное подключение к базе данных PostgreSQL\")\n",
    "\n",
    "    cur = conn.cursor()\n",
    "\n",
    "    cur.execute(\"SELECT * from products\")\n",
    "    rows = cur.fetchall()\n",
    "    df = pd.DataFrame(rows)\n",
    "    df.columns = [desc[0] for desc in cur.description]\n",
    "    \n",
    "    cur.close()\n",
    "    conn.close()\n",
    "\n",
    "except (Exception, psycopg2.Error) as error:\n",
    "    print(\"Ошибка при подключении к PostgreSQL:\", error)\n",
    "finally:\n",
    "    # Закрытие соединения, если оно было установлено\n",
    "    if conn:\n",
    "        conn.close()\n"
   ]
  },
  {
   "cell_type": "code",
   "execution_count": 4,
   "metadata": {},
   "outputs": [],
   "source": [
    "for company, group in df.groupby('product_company'):\n",
    "    # Здесь можно определить логику выбора значений 'inn' и 'ogrn'\n",
    "    # Например, берем первые значения в группе\n",
    "    inn_value = group['inn'].iloc[0]\n",
    "    ogrn_value = group['ogrn'].iloc[0]\n",
    "    \n",
    "    df.loc[df['product_company'] == company, 'inn'] = inn_value\n",
    "    df.loc[df['product_company'] == company, 'ogrn'] = ogrn_value"
   ]
  },
  {
   "cell_type": "code",
   "execution_count": 6,
   "metadata": {},
   "outputs": [
    {
     "data": {
      "text/plain": [
       "539"
      ]
     },
     "execution_count": 6,
     "metadata": {},
     "output_type": "execute_result"
    }
   ],
   "source": [
    "import pandas as pd\n",
    "from sqlalchemy import create_engine\n",
    "\n",
    "dbname = 'postgres'\n",
    "user = 'serikova'\n",
    "password = '12345'\n",
    "host = '127.0.0.1'\n",
    "port = '5432'\n",
    "\n",
    "# Создайте строку подключения к базе данных PostgreSQL\n",
    "connection_str = f'postgresql://{user}:{password}@{host}:{port}/{dbname}'\n",
    "\n",
    "# Установите соединение с базой данных\n",
    "engine = create_engine(connection_str)\n",
    "# Загрузите DataFrame в таблицу PostgreSQL\n",
    "df.to_sql('products', engine, if_exists='replace', index=False)"
   ]
  },
  {
   "cell_type": "code",
   "execution_count": 10,
   "metadata": {},
   "outputs": [
    {
     "data": {
      "text/plain": [
       "{'took': 129,\n",
       " 'timed_out': False,\n",
       " '_shards': {'total': 1, 'successful': 1, 'skipped': 0, 'failed': 0},\n",
       " 'hits': {'total': {'value': 487, 'relation': 'eq'},\n",
       "  'max_score': 5.057294,\n",
       "  'hits': [{'_index': 'products',\n",
       "    '_id': '2231',\n",
       "    '_score': 5.057294,\n",
       "    '_source': {'product_name': 'Клапан',\n",
       "     'product_desc': 'Цена по запросу',\n",
       "     'product_price': 'Без минимального объема',\n",
       "     'product_company': 'ATLAS YEM MAK SAN TIC LTD STI',\n",
       "     'inn': 7702026003,\n",
       "     'ogrn': 1720288602538,\n",
       "     'okpd2': '28.14.11.131'}},\n",
       "   {'_index': 'products',\n",
       "    '_id': '2232',\n",
       "    '_score': 4.6864185,\n",
       "    '_source': {'product_name': 'Перекидной Клапан',\n",
       "     'product_desc': 'Цена по запросу',\n",
       "     'product_price': 'Без минимального объема',\n",
       "     'product_company': 'ATLAS YEM MAK SAN TIC LTD STI',\n",
       "     'inn': 7702026003,\n",
       "     'ogrn': 1720288602538,\n",
       "     'okpd2': '27.33.11.110'}},\n",
       "   {'_index': 'products',\n",
       "    '_id': '2658',\n",
       "    '_score': 4.6864185,\n",
       "    '_source': {'product_name': 'Клапан обратный',\n",
       "     'product_desc': 'Цена по запросу',\n",
       "     'product_price': 'Без минимального объема',\n",
       "     'product_company': 'Компания-поставщик Конфаст',\n",
       "     'inn': 7770388228,\n",
       "     'ogrn': 1640811576284,\n",
       "     'okpd2': '28.14.11.131'}},\n",
       "   {'_index': 'products',\n",
       "    '_id': '2709',\n",
       "    '_score': 4.6864185,\n",
       "    '_source': {'product_name': 'Клапан гидравлический',\n",
       "     'product_desc': 'Цена по запросу',\n",
       "     'product_price': 'Объем заказа от 1 шт.',\n",
       "     'product_company': 'АВТОН, ООО',\n",
       "     'inn': 7708711767,\n",
       "     'ogrn': 1540480270240,\n",
       "     'okpd2': '28.12.14.110'}},\n",
       "   {'_index': 'products',\n",
       "    '_id': '14398',\n",
       "    '_score': 4.6864185,\n",
       "    '_source': {'product_name': 'Клапан перепускной',\n",
       "     'product_desc': 'Цена по запросу',\n",
       "     'product_price': None,\n",
       "     'product_company': 'ОБЩЕСТВО С ОГРАНИЧЕННОЙ ОТВЕТСТВЕННОСТЬЮ ИЗТМ-ИНЖИНИРИНГ',\n",
       "     'inn': 7772109052,\n",
       "     'ogrn': 1063808150218,\n",
       "     'okpd2': '28.14.13.110'}},\n",
       "   {'_index': 'products',\n",
       "    '_id': '14639',\n",
       "    '_score': 4.6864185,\n",
       "    '_source': {'product_name': 'Клапаны запорные',\n",
       "     'product_desc': 'Цена по запросу',\n",
       "     'product_price': None,\n",
       "     'product_company': 'АКЦИОНЕРНОЕ ОБЩЕСТВО НАУЧНО-ПРОИЗВОДСТВЕННОЕ ОБЪЕДИНЕНИЕ РЕГУЛЯТОР',\n",
       "     'inn': 7726028974,\n",
       "     'ogrn': 1127604006804,\n",
       "     'okpd2': '28.14.13.110'}},\n",
       "   {'_index': 'products',\n",
       "    '_id': '14641',\n",
       "    '_score': 4.6864185,\n",
       "    '_source': {'product_name': 'Клапаны вакуумные',\n",
       "     'product_desc': 'Цена по запросу',\n",
       "     'product_price': None,\n",
       "     'product_company': 'АКЦИОНЕРНОЕ ОБЩЕСТВО НАУЧНО-ПРОИЗВОДСТВЕННОЕ ОБЪЕДИНЕНИЕ РЕГУЛЯТОР',\n",
       "     'inn': 7726028974,\n",
       "     'ogrn': 1127604006804,\n",
       "     'okpd2': '28.14.13.110'}},\n",
       "   {'_index': 'products',\n",
       "    '_id': '14643',\n",
       "    '_score': 4.6864185,\n",
       "    '_source': {'product_name': 'Клапаны регулирующие',\n",
       "     'product_desc': 'Цена по запросу',\n",
       "     'product_price': None,\n",
       "     'product_company': 'АКЦИОНЕРНОЕ ОБЩЕСТВО НАУЧНО-ПРОИЗВОДСТВЕННОЕ ОБЪЕДИНЕНИЕ РЕГУЛЯТОР',\n",
       "     'inn': 7726028974,\n",
       "     'ogrn': 1127604006804,\n",
       "     'okpd2': '28.14.11.120'}},\n",
       "   {'_index': 'products',\n",
       "    '_id': '14664',\n",
       "    '_score': 4.6864185,\n",
       "    '_source': {'product_name': 'Клапаны обратные',\n",
       "     'product_desc': 'Цена по запросу',\n",
       "     'product_price': None,\n",
       "     'product_company': 'АКЦИОНЕРНОЕ ОБЩЕСТВО НАУЧНО-ПРОИЗВОДСТВЕННОЕ ОБЪЕДИНЕНИЕ РЕГУЛЯТОР',\n",
       "     'inn': 7726028974,\n",
       "     'ogrn': 1127604006804,\n",
       "     'okpd2': '28.14.11.130'}},\n",
       "   {'_index': 'products',\n",
       "    '_id': '14666',\n",
       "    '_score': 4.6864185,\n",
       "    '_source': {'product_name': 'Клапаны предохранительные',\n",
       "     'product_desc': 'Цена по запросу',\n",
       "     'product_price': None,\n",
       "     'product_company': 'АКЦИОНЕРНОЕ ОБЩЕСТВО НАУЧНО-ПРОИЗВОДСТВЕННОЕ ОБЪЕДИНЕНИЕ РЕГУЛЯТОР',\n",
       "     'inn': 7726028974,\n",
       "     'ogrn': 1127604006804,\n",
       "     'okpd2': '28.14.11.140'}}]}}"
      ]
     },
     "execution_count": 10,
     "metadata": {},
     "output_type": "execute_result"
    }
   ],
   "source": [
    "resp = client.search(\n",
    "    index=\"products\",\n",
    "    body={\n",
    "        \"query\": {\n",
    "            \"bool\": {\n",
    "                \"must\": {\n",
    "                    \"match\": {\n",
    "                        \"product_name\": {\n",
    "                            \"query\": \"клапаан\",\n",
    "                            \"fuzziness\": \"AUTO\",\n",
    "                        }\n",
    "                    }\n",
    "                },\n",
    "            }\n",
    "        }\n",
    "    }\n",
    ")\n",
    "resp"
   ]
  },
  {
   "cell_type": "code",
   "execution_count": 6,
   "metadata": {},
   "outputs": [
    {
     "data": {
      "text/plain": [
       "{'acknowledged': True}"
      ]
     },
     "execution_count": 6,
     "metadata": {},
     "output_type": "execute_result"
    }
   ],
   "source": [
    "client.indices.delete(index='products')"
   ]
  },
  {
   "cell_type": "code",
   "execution_count": 7,
   "metadata": {},
   "outputs": [
    {
     "name": "stdout",
     "output_type": "stream",
     "text": [
      "{'acknowledged': True, 'shards_acknowledged': True, 'index': 'products'}\n"
     ]
    }
   ],
   "source": [
    "index_body = {\n",
    "    \"settings\": {\n",
    "        \"number_of_shards\": 1,\n",
    "        \"number_of_replicas\": 0,\n",
    "        \"analysis\": {\n",
    "            \"filter\": {\n",
    "                \"russian_stemmer\": {\n",
    "                    \"type\": \"stemmer\",\n",
    "                    \"language\": \"russian\"\n",
    "                }\n",
    "            },\n",
    "            \"analyzer\": {\n",
    "                \"russian_analyzer\": {\n",
    "                    \"type\": \"custom\",\n",
    "                    \"tokenizer\": \"standard\",\n",
    "                    \"filter\": [\n",
    "                        \"lowercase\",\n",
    "                        \"russian_synonym_filter\",\n",
    "                        \"russian_stemmer\",\n",
    "                        \"snowball\"\n",
    "                    ]\n",
    "                }\n",
    "            }\n",
    "        }\n",
    "    },\n",
    "    \"mappings\": {\n",
    "        \"properties\": {\n",
    "            \"product_name\": {\"type\": \"text\", \"analyzer\": \"russian_analyzer\"},\n",
    "            \"product_desc\": {\"type\": \"text\", \"analyzer\": \"russian_analyzer\"},\n",
    "            \"product_price\": {\"type\": \"keyword\"},\n",
    "            \"product_company\": {\"type\": \"text\", \"analyzer\": \"russian_analyzer\"},\n",
    "            \"inn\": {\"type\": \"keyword\"},\n",
    "            \"ogrn\": {\"type\": \"keyword\"},\n",
    "            \"okpd2\": {\"type\": \"keyword\"}\n",
    "        }\n",
    "    }\n",
    "}\n",
    "# Создание индекса\n",
    "response = client.indices.create(index=\"products\", body=index_body, ignore=400)  # 400 игнорирует ошибку если индекс уже существует\n",
    "print(response)\n"
   ]
  },
  {
   "cell_type": "code",
   "execution_count": 8,
   "metadata": {},
   "outputs": [
    {
     "name": "stdout",
     "output_type": "stream",
     "text": [
      "{'_index': 'products', '_id': '27538', '_version': 1, 'result': 'created', '_shards': {'total': 1, 'successful': 1, 'failed': 0}, '_seq_no': 27538, '_primary_term': 1}\n"
     ]
    }
   ],
   "source": [
    "import pandas as pd\n",
    "for i, row in df.iterrows():\n",
    "    body = {\n",
    "        \"product_name\": row[\"product_name\"],\n",
    "        \"product_desc\": row[\"product_desc\"],\n",
    "        \"product_price\": row[\"product_price\"],\n",
    "        \"product_company\": row[\"product_company\"],\n",
    "        \"inn\": row[\"inn\"],\n",
    "        \"ogrn\": row[\"ogrn\"],\n",
    "        \"okpd2\": row[\"okpd2\"]\n",
    "    }    \n",
    "    response = client.index(index=\"products\", id=i, body=body)\n",
    "print(response)"
   ]
  }
 ],
 "metadata": {
  "kernelspec": {
   "display_name": "venv",
   "language": "python",
   "name": "python3"
  },
  "language_info": {
   "codemirror_mode": {
    "name": "ipython",
    "version": 3
   },
   "file_extension": ".py",
   "mimetype": "text/x-python",
   "name": "python",
   "nbconvert_exporter": "python",
   "pygments_lexer": "ipython3",
   "version": "3.11.9"
  }
 },
 "nbformat": 4,
 "nbformat_minor": 2
}

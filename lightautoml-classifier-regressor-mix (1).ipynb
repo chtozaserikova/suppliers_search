{
 "cells": [
  {
   "cell_type": "code",
   "execution_count": 2,
   "id": "4361d2d2",
   "metadata": {
    "papermill": {
     "duration": 11.189092,
     "end_time": "2021-08-15T20:25:32.898693",
     "exception": false,
     "start_time": "2021-08-15T20:25:21.709601",
     "status": "completed"
    },
    "tags": []
   },
   "outputs": [
    {
     "name": "stderr",
     "output_type": "stream",
     "text": [
      "c:\\Users\\Sveta\\AppData\\Local\\Programs\\Python\\Python311\\Lib\\site-packages\\tqdm\\auto.py:21: TqdmWarning: IProgress not found. Please update jupyter and ipywidgets. See https://ipywidgets.readthedocs.io/en/stable/user_install.html\n",
      "  from .autonotebook import tqdm as notebook_tqdm\n"
     ]
    }
   ],
   "source": [
    "# Standard python libraries\n",
    "import os\n",
    "import time\n",
    "\n",
    "# Essential DS libraries\n",
    "import numpy as np\n",
    "import pandas as pd\n",
    "from sklearn.metrics import mean_squared_error, roc_auc_score\n",
    "from sklearn.model_selection import train_test_split\n",
    "from scipy.stats import rankdata\n",
    "import torch\n",
    "\n",
    "# LightAutoML presets, task and report generation\n",
    "from lightautoml.automl.base import AutoML\n",
    "from lightautoml.automl.blend import WeightedBlender\n",
    "from lightautoml.ml_algo.boost_lgbm import BoostLGBM\n",
    "from lightautoml.ml_algo.linear_sklearn import LinearLBFGS\n",
    "from lightautoml.ml_algo.tuning.optuna import OptunaTuner\n",
    "from lightautoml.pipelines.features.lgb_pipeline import LGBSimpleFeatures, LGBAdvancedPipeline\n",
    "from lightautoml.pipelines.features.linear_pipeline import LinearFeatures\n",
    "from lightautoml.pipelines.ml.base import MLPipeline\n",
    "from lightautoml.pipelines.selection.importance_based import ModelBasedImportanceEstimator, ImportanceCutoffSelector\n",
    "from lightautoml.reader.base import PandasToPandasReader\n",
    "from lightautoml.tasks import Task\n",
    "\n",
    "# Everything for graphs\n",
    "%matplotlib inline\n",
    "import matplotlib.pyplot as plt\n",
    "import seaborn as sns"
   ]
  },
  {
   "cell_type": "markdown",
   "id": "d569ae15",
   "metadata": {
    "papermill": {
     "duration": 0.067113,
     "end_time": "2021-08-15T20:25:33.034045",
     "exception": false,
     "start_time": "2021-08-15T20:25:32.966932",
     "status": "completed"
    },
    "tags": []
   },
   "source": [
    "# Step 0.2. Constants\n",
    "\n",
    "Here we setup the constants to use in the kernel:\n",
    "- `N_THREADS` - number of vCPUs for LightAutoML model creation\n",
    "- `N_FOLDS` - number of folds in LightAutoML inner CV\n",
    "- `RANDOM_STATE` - random seed for better reproducibility\n",
    "- `TEST_SIZE` - houldout data part size \n",
    "- `TIMEOUT` - limit in seconds for model to train\n",
    "- `TARGET_NAME` - target column name in dataset"
   ]
  },
  {
   "cell_type": "code",
   "execution_count": 3,
   "id": "e75ed3f1",
   "metadata": {
    "papermill": {
     "duration": 0.073101,
     "end_time": "2021-08-15T20:25:33.175165",
     "exception": false,
     "start_time": "2021-08-15T20:25:33.102064",
     "status": "completed"
    },
    "tags": []
   },
   "outputs": [],
   "source": [
    "N_THREADS = 1\n",
    "N_FOLDS = 5\n",
    "RANDOM_STATE = 42\n",
    "TEST_SIZE = 0.1\n",
    "TIMEOUT = 6*3600\n",
    "TARGET_NAME = 'Рейтинг'"
   ]
  },
  {
   "cell_type": "code",
   "execution_count": 4,
   "id": "0cf7101b",
   "metadata": {
    "papermill": {
     "duration": 0.074038,
     "end_time": "2021-08-15T20:25:33.449968",
     "exception": false,
     "start_time": "2021-08-15T20:25:33.375930",
     "status": "completed"
    },
    "tags": []
   },
   "outputs": [],
   "source": [
    "np.random.seed(RANDOM_STATE)\n",
    "torch.set_num_threads(N_THREADS)"
   ]
  },
  {
   "cell_type": "code",
   "execution_count": 5,
   "id": "edb65e81",
   "metadata": {
    "papermill": {
     "duration": 7.016604,
     "end_time": "2021-08-15T20:25:40.666168",
     "exception": false,
     "start_time": "2021-08-15T20:25:33.649564",
     "status": "completed"
    },
    "scrolled": true,
    "tags": []
   },
   "outputs": [
    {
     "name": "stdout",
     "output_type": "stream",
     "text": [
      "CPU times: total: 78.1 ms\n",
      "Wall time: 155 ms\n"
     ]
    }
   ],
   "source": [
    "%%time\n",
    "\n",
    "df = pd.read_csv('bo_rates.csv')\n",
    "rates = pd.read_csv('na_ratings.csv')\n",
    "df = df.apply(pd.to_numeric, errors='coerce').astype('Int64')\n",
    "rates['ИНН'] = rates['ИНН'].astype('Int64')\n",
    "df = pd.merge(df, rates[['ИНН', 'Рейтинг']], on='ИНН')"
   ]
  },
  {
   "cell_type": "code",
   "execution_count": 6,
   "id": "1e176d22",
   "metadata": {},
   "outputs": [
    {
     "data": {
      "text/plain": [
       "19"
      ]
     },
     "execution_count": 6,
     "metadata": {},
     "output_type": "execute_result"
    }
   ],
   "source": [
    "df['Рейтинг'] = df['Рейтинг'].str.split('[|]|.esg|.am').str[0].str.strip()\n",
    "df['Рейтинг'] = df['Рейтинг'].str.replace('-', '–').str.replace('А', 'A').str.replace('В', 'B').str.replace('Независимое мнение НРA', '—').str.replace('1', '+').str.replace('2', '+')\n",
    "df['Рейтинг'].nunique()"
   ]
  },
  {
   "cell_type": "markdown",
   "id": "a8d4a811",
   "metadata": {
    "jp-MarkdownHeadingCollapsed": true
   },
   "source": [
    "# regression"
   ]
  },
  {
   "cell_type": "code",
   "execution_count": 6,
   "id": "ddf198e6",
   "metadata": {},
   "outputs": [],
   "source": [
    "from lightautoml.automl.base import AutoML\n",
    "from lightautoml.ml_algo.boost_lgbm import BoostLGBM\n",
    "from lightautoml.ml_algo.tuning.optuna import OptunaTuner\n",
    "from lightautoml.pipelines.features.lgb_pipeline import LGBSimpleFeatures\n",
    "from lightautoml.pipelines.ml.base import MLPipeline\n",
    "from lightautoml.reader.base import PandasToPandasReader\n",
    "from lightautoml.tasks import Task"
   ]
  },
  {
   "cell_type": "code",
   "execution_count": 7,
   "id": "aa042fc1",
   "metadata": {},
   "outputs": [],
   "source": [
    "rating_to_number = {\n",
    "    'AAA': 100,\n",
    "    'AA+': 90,\n",
    "    'AA': 85,\n",
    "    'AA–': 80,\n",
    "    'A+': 75,\n",
    "    'A': 70,\n",
    "    'A–': 65,\n",
    "    'BBB+': 60,\n",
    "    'BBB': 55,\n",
    "    'BBB–': 50,\n",
    "    'BB+': 45,\n",
    "    'BB': 40,\n",
    "    'BB–': 35,\n",
    "    'B+': 30,\n",
    "    'B': 25,\n",
    "    'B–': 20,\n",
    "    'CCC': 15,\n",
    "    'C': 10,\n",
    "    '—': 0  # Отсутствующий или не определённый рейтинг\n",
    "}\n",
    "\n",
    "df['Рейтинг'] = df['Рейтинг'].map(rating_to_number)"
   ]
  },
  {
   "cell_type": "code",
   "execution_count": 8,
   "id": "8f3ca06f",
   "metadata": {},
   "outputs": [
    {
     "data": {
      "text/plain": [
       "62.14456188203205"
      ]
     },
     "execution_count": 8,
     "metadata": {},
     "output_type": "execute_result"
    }
   ],
   "source": [
    "df['Рейтинг'].mean()"
   ]
  },
  {
   "cell_type": "code",
   "execution_count": 9,
   "id": "2841867a",
   "metadata": {},
   "outputs": [
    {
     "name": "stdout",
     "output_type": "stream",
     "text": [
      "Task created\n",
      "Reader created\n",
      "Pipeline1 created\n",
      "Pipeline2 created\n",
      "Task created\n",
      "Reader created\n",
      "Pipeline1 created\n",
      "Pipeline2 created\n",
      "Task created\n",
      "Reader created\n",
      "Pipeline1 created\n",
      "Pipeline2 created\n"
     ]
    }
   ],
   "source": [
    "for task_params, target in zip(\n",
    "    [\n",
    "        {\"name\": \"reg\", \"loss\": \"mse\", \"metric\": \"r2\"},\n",
    "        {\"name\": \"reg\", \"loss\": \"rmsle\", \"metric\": \"rmsle\"},\n",
    "        {\n",
    "            \"name\": \"reg\",\n",
    "            \"loss\": \"quantile\",\n",
    "            \"loss_params\": {\"q\": 0.9},\n",
    "            \"metric\": \"quantile\",\n",
    "            \"metric_params\": {\"q\": 0.9},\n",
    "        },\n",
    "    ],\n",
    "    [\"num_sold\", \"num_sold\", \"num_sold\"],\n",
    "):\n",
    "    task = Task(**task_params)\n",
    "    print(\"Task created\")\n",
    "\n",
    "    reader = PandasToPandasReader(task, cv=5, random_state=1)\n",
    "    print(\"Reader created\")\n",
    "\n",
    "    # pipeline 1\n",
    "    pipe = LGBSimpleFeatures()\n",
    "\n",
    "    params_tuner1 = OptunaTuner(n_trials=20, timeout=30)\n",
    "    model1 = BoostLGBM(\n",
    "        default_params={'learning_rate': 0.05, 'num_leaves': 128,\n",
    "                        'seed': 1, 'num_threads': N_THREADS}\n",
    "    )\n",
    "    model2 = BoostLGBM(\n",
    "        default_params={'learning_rate': 0.04, 'num_leaves': 64,\n",
    "                        'seed': 2, 'max_depth': 8, 'num_threads': N_THREADS}\n",
    "    )\n",
    "    pipeline_lvl1 = MLPipeline([\n",
    "        (model1, params_tuner1),\n",
    "        model2],\n",
    "        pre_selection=None, \n",
    "        features_pipeline=pipe,\n",
    "        post_selection=None\n",
    "    )\n",
    "    print(\"Pipeline1 created\")\n",
    "    #pipeline2\n",
    "    pipe1 = LGBSimpleFeatures()\n",
    "    model = BoostLGBM(\n",
    "        default_params={'learning_rate': 0.05, 'num_leaves': 64,\n",
    "                        'max_bin': 1024, 'seed': 3, 'max_depth': 8, 'num_threads': N_THREADS},\n",
    "        freeze_defaults=True\n",
    "    )\n",
    "    pipeline_lvl2 = MLPipeline(\n",
    "        [model], \n",
    "        pre_selection=None, \n",
    "        features_pipeline=pipe1,\n",
    "        post_selection=None\n",
    "    )\n",
    "    print(\"Pipeline2 created\")\n",
    "\\\n",
    "    automl = AutoML(reader, [\n",
    "        [pipeline_lvl1],\n",
    "        [pipeline_lvl2],], \n",
    "        skip_conn=False)"
   ]
  },
  {
   "cell_type": "code",
   "execution_count": 10,
   "id": "2521dda7",
   "metadata": {},
   "outputs": [
    {
     "name": "stdout",
     "output_type": "stream",
     "text": [
      "Data splitted. Parts sizes: tr_data = (7919, 70), te_data = (880, 70)\n"
     ]
    }
   ],
   "source": [
    "train_data, test_data = train_test_split(df, \n",
    "                                    test_size=TEST_SIZE, \n",
    "                                    stratify=df['Рейтинг'], \n",
    "                                    random_state=RANDOM_STATE)\n",
    "print('Data splitted. Parts sizes: tr_data = {}, te_data = {}'.format(train_data.shape, test_data.shape))"
   ]
  },
  {
   "cell_type": "code",
   "execution_count": 11,
   "id": "03b7c3f5",
   "metadata": {},
   "outputs": [
    {
     "name": "stdout",
     "output_type": "stream",
     "text": [
      "[07:45:16] \u001b[1mTrain data shape: (7919, 70)\u001b[0m\n",
      "\n",
      "[07:45:24] Layer \u001b[1m1\u001b[0m train process start. Time left 9999999991.47 secs\n",
      "[07:45:24] Start hyperparameters optimization for \u001b[1mLvl_0_Pipe_0_Mod_0_LightGBM\u001b[0m ... Time budget is 30.00 secs\n",
      "[07:45:24] Copying TaskTimer may affect the parent PipelineTimer, so copy will create new unlimited TaskTimer\n",
      "[07:45:25] \u001b[1mLvl_0_Pipe_0_Mod_0_LightGBM\u001b[0m fitting and predicting completed\n",
      "[07:45:25] \u001b[1mLvl_0_Pipe_0_Mod_0_LightGBM\u001b[0m fitting and predicting completed\n",
      "[07:45:25] \u001b[1mLvl_0_Pipe_0_Mod_0_LightGBM\u001b[0m fitting and predicting completed\n",
      "[07:45:25] \u001b[1mLvl_0_Pipe_0_Mod_0_LightGBM\u001b[0m fitting and predicting completed\n",
      "[07:45:25] \u001b[1mLvl_0_Pipe_0_Mod_0_LightGBM\u001b[0m fitting and predicting completed\n",
      "[07:45:25] \u001b[1mLvl_0_Pipe_0_Mod_0_LightGBM\u001b[0m fitting and predicting completed\n",
      "[07:45:25] \u001b[1mLvl_0_Pipe_0_Mod_0_LightGBM\u001b[0m fitting and predicting completed\n",
      "[07:45:25] \u001b[1mLvl_0_Pipe_0_Mod_0_LightGBM\u001b[0m fitting and predicting completed\n",
      "[07:45:26] \u001b[1mLvl_0_Pipe_0_Mod_0_LightGBM\u001b[0m fitting and predicting completed\n",
      "[07:45:26] \u001b[1mLvl_0_Pipe_0_Mod_0_LightGBM\u001b[0m fitting and predicting completed\n",
      "[07:45:26] \u001b[1mLvl_0_Pipe_0_Mod_0_LightGBM\u001b[0m fitting and predicting completed\n",
      "[07:45:26] \u001b[1mLvl_0_Pipe_0_Mod_0_LightGBM\u001b[0m fitting and predicting completed\n",
      "[07:45:26] \u001b[1mLvl_0_Pipe_0_Mod_0_LightGBM\u001b[0m fitting and predicting completed\n",
      "[07:45:27] \u001b[1mLvl_0_Pipe_0_Mod_0_LightGBM\u001b[0m fitting and predicting completed\n",
      "[07:45:27] \u001b[1mLvl_0_Pipe_0_Mod_0_LightGBM\u001b[0m fitting and predicting completed\n",
      "[07:45:27] \u001b[1mLvl_0_Pipe_0_Mod_0_LightGBM\u001b[0m fitting and predicting completed\n",
      "[07:45:27] \u001b[1mLvl_0_Pipe_0_Mod_0_LightGBM\u001b[0m fitting and predicting completed\n",
      "[07:45:27] \u001b[1mLvl_0_Pipe_0_Mod_0_LightGBM\u001b[0m fitting and predicting completed\n",
      "[07:45:27] \u001b[1mLvl_0_Pipe_0_Mod_0_LightGBM\u001b[0m fitting and predicting completed\n",
      "[07:45:27] \u001b[1mLvl_0_Pipe_0_Mod_0_LightGBM\u001b[0m fitting and predicting completed\n",
      "[07:45:27] Hyperparameters optimization for \u001b[1mLvl_0_Pipe_0_Mod_0_LightGBM\u001b[0m completed\n",
      "[07:45:27] The set of hyperparameters \u001b[1m{'feature_fraction': 0.6872700594236812, 'num_leaves': 244}\u001b[0m\n",
      " achieve -34.3409 quantile\n",
      "[07:45:27] Start fitting \u001b[1mLvl_0_Pipe_0_Mod_0_LightGBM\u001b[0m ...\n",
      "[07:45:27] ===== Start working with \u001b[1mfold 0\u001b[0m for \u001b[1mLvl_0_Pipe_0_Mod_0_LightGBM\u001b[0m =====\n",
      "[07:45:28] ===== Start working with \u001b[1mfold 1\u001b[0m for \u001b[1mLvl_0_Pipe_0_Mod_0_LightGBM\u001b[0m =====\n",
      "[07:45:28] ===== Start working with \u001b[1mfold 2\u001b[0m for \u001b[1mLvl_0_Pipe_0_Mod_0_LightGBM\u001b[0m =====\n",
      "[07:45:28] ===== Start working with \u001b[1mfold 3\u001b[0m for \u001b[1mLvl_0_Pipe_0_Mod_0_LightGBM\u001b[0m =====\n",
      "[07:45:28] ===== Start working with \u001b[1mfold 4\u001b[0m for \u001b[1mLvl_0_Pipe_0_Mod_0_LightGBM\u001b[0m =====\n",
      "[07:45:28] Fitting \u001b[1mLvl_0_Pipe_0_Mod_0_LightGBM\u001b[0m finished. score = \u001b[1m-34.070779138780146\u001b[0m\n",
      "[07:45:28] \u001b[1mLvl_0_Pipe_0_Mod_0_LightGBM\u001b[0m fitting and predicting completed\n",
      "[07:45:28] Start fitting \u001b[1mLvl_0_Pipe_0_Mod_1_LightGBM\u001b[0m ...\n",
      "[07:45:28] ===== Start working with \u001b[1mfold 0\u001b[0m for \u001b[1mLvl_0_Pipe_0_Mod_1_LightGBM\u001b[0m =====\n",
      "[07:45:28] ===== Start working with \u001b[1mfold 1\u001b[0m for \u001b[1mLvl_0_Pipe_0_Mod_1_LightGBM\u001b[0m =====\n",
      "[07:45:28] ===== Start working with \u001b[1mfold 2\u001b[0m for \u001b[1mLvl_0_Pipe_0_Mod_1_LightGBM\u001b[0m =====\n",
      "[07:45:29] ===== Start working with \u001b[1mfold 3\u001b[0m for \u001b[1mLvl_0_Pipe_0_Mod_1_LightGBM\u001b[0m =====\n",
      "[07:45:29] ===== Start working with \u001b[1mfold 4\u001b[0m for \u001b[1mLvl_0_Pipe_0_Mod_1_LightGBM\u001b[0m =====\n",
      "[07:45:29] Fitting \u001b[1mLvl_0_Pipe_0_Mod_1_LightGBM\u001b[0m finished. score = \u001b[1m-34.070779138780146\u001b[0m\n",
      "[07:45:29] \u001b[1mLvl_0_Pipe_0_Mod_1_LightGBM\u001b[0m fitting and predicting completed\n",
      "[07:45:29] Time left 9999999987.13 secs\n",
      "\n",
      "[07:45:29] \u001b[1mLayer 1 training completed.\u001b[0m\n",
      "\n",
      "[07:45:29] Layer \u001b[1m2\u001b[0m train process start. Time left 9999999987.13 secs\n",
      "[07:45:29] Start fitting \u001b[1mLvl_1_Pipe_0_Mod_0_LightGBM\u001b[0m ...\n",
      "[07:45:29] ===== Start working with \u001b[1mfold 0\u001b[0m for \u001b[1mLvl_1_Pipe_0_Mod_0_LightGBM\u001b[0m =====\n",
      "[07:45:29] ===== Start working with \u001b[1mfold 1\u001b[0m for \u001b[1mLvl_1_Pipe_0_Mod_0_LightGBM\u001b[0m =====\n",
      "[07:45:29] ===== Start working with \u001b[1mfold 2\u001b[0m for \u001b[1mLvl_1_Pipe_0_Mod_0_LightGBM\u001b[0m =====\n",
      "[07:45:29] ===== Start working with \u001b[1mfold 3\u001b[0m for \u001b[1mLvl_1_Pipe_0_Mod_0_LightGBM\u001b[0m =====\n",
      "[07:45:29] ===== Start working with \u001b[1mfold 4\u001b[0m for \u001b[1mLvl_1_Pipe_0_Mod_0_LightGBM\u001b[0m =====\n",
      "[07:45:29] Fitting \u001b[1mLvl_1_Pipe_0_Mod_0_LightGBM\u001b[0m finished. score = \u001b[1m-34.070779138780146\u001b[0m\n",
      "[07:45:29] \u001b[1mLvl_1_Pipe_0_Mod_0_LightGBM\u001b[0m fitting and predicting completed\n",
      "[07:45:29] Time left 9999999987.04 secs\n",
      "\n",
      "[07:45:29] \u001b[1mLayer 2 training completed.\u001b[0m\n",
      "\n",
      "AutoML pipeline fitted and predicted. Time = 12.963 sec\n"
     ]
    }
   ],
   "source": [
    "start_time = time.time()\n",
    "oof_pred = automl.fit_predict(train_data, roles={\"target\": 'Рейтинг'}, verbose=2)\n",
    "print(\"AutoML pipeline fitted and predicted. Time = {:.3f} sec\".format(time.time() - start_time))"
   ]
  },
  {
   "cell_type": "code",
   "execution_count": 12,
   "id": "1fd91d28",
   "metadata": {},
   "outputs": [
    {
     "name": "stdout",
     "output_type": "stream",
     "text": [
      "Check scores...\n",
      "OOF score: 34.070779138780146\n"
     ]
    }
   ],
   "source": [
    "test_pred = automl.predict(test_data.drop(columns='Рейтинг'))\n",
    "print(\"Check scores...\")\n",
    "print(\"OOF score: {}\".format(task.metric_func(train_data[TARGET_NAME].values, oof_pred.data[:, 0])))"
   ]
  },
  {
   "cell_type": "code",
   "execution_count": 13,
   "id": "eac75e4c",
   "metadata": {},
   "outputs": [
    {
     "data": {
      "text/plain": [
       "880"
      ]
     },
     "execution_count": 13,
     "metadata": {},
     "output_type": "execute_result"
    }
   ],
   "source": [
    "len(test_pred)"
   ]
  },
  {
   "cell_type": "code",
   "execution_count": 14,
   "id": "f7d3eff6",
   "metadata": {},
   "outputs": [
    {
     "data": {
      "text/html": [
       "<div>\n",
       "<style scoped>\n",
       "    .dataframe tbody tr th:only-of-type {\n",
       "        vertical-align: middle;\n",
       "    }\n",
       "\n",
       "    .dataframe tbody tr th {\n",
       "        vertical-align: top;\n",
       "    }\n",
       "\n",
       "    .dataframe thead th {\n",
       "        text-align: right;\n",
       "    }\n",
       "</style>\n",
       "<table border=\"1\" class=\"dataframe\">\n",
       "  <thead>\n",
       "    <tr style=\"text-align: right;\">\n",
       "      <th></th>\n",
       "      <th>pred</th>\n",
       "      <th>true</th>\n",
       "    </tr>\n",
       "  </thead>\n",
       "  <tbody>\n",
       "    <tr>\n",
       "      <th>331</th>\n",
       "      <td>100.0</td>\n",
       "      <td>40</td>\n",
       "    </tr>\n",
       "    <tr>\n",
       "      <th>247</th>\n",
       "      <td>100.0</td>\n",
       "      <td>85</td>\n",
       "    </tr>\n",
       "    <tr>\n",
       "      <th>790</th>\n",
       "      <td>100.0</td>\n",
       "      <td>70</td>\n",
       "    </tr>\n",
       "    <tr>\n",
       "      <th>316</th>\n",
       "      <td>100.0</td>\n",
       "      <td>0</td>\n",
       "    </tr>\n",
       "    <tr>\n",
       "      <th>215</th>\n",
       "      <td>100.0</td>\n",
       "      <td>80</td>\n",
       "    </tr>\n",
       "    <tr>\n",
       "      <th>680</th>\n",
       "      <td>100.0</td>\n",
       "      <td>60</td>\n",
       "    </tr>\n",
       "    <tr>\n",
       "      <th>585</th>\n",
       "      <td>100.0</td>\n",
       "      <td>75</td>\n",
       "    </tr>\n",
       "    <tr>\n",
       "      <th>462</th>\n",
       "      <td>100.0</td>\n",
       "      <td>65</td>\n",
       "    </tr>\n",
       "    <tr>\n",
       "      <th>815</th>\n",
       "      <td>100.0</td>\n",
       "      <td>50</td>\n",
       "    </tr>\n",
       "    <tr>\n",
       "      <th>39</th>\n",
       "      <td>100.0</td>\n",
       "      <td>100</td>\n",
       "    </tr>\n",
       "  </tbody>\n",
       "</table>\n",
       "</div>"
      ],
      "text/plain": [
       "      pred  true\n",
       "331  100.0    40\n",
       "247  100.0    85\n",
       "790  100.0    70\n",
       "316  100.0     0\n",
       "215  100.0    80\n",
       "680  100.0    60\n",
       "585  100.0    75\n",
       "462  100.0    65\n",
       "815  100.0    50\n",
       "39   100.0   100"
      ]
     },
     "execution_count": 14,
     "metadata": {},
     "output_type": "execute_result"
    }
   ],
   "source": [
    "res = pd.DataFrame({\n",
    "    'pred': test_pred.data[:, 0],\n",
    "    'true': test_data[TARGET_NAME].tolist()\n",
    "})\n",
    "res.sample(10)"
   ]
  },
  {
   "cell_type": "markdown",
   "id": "1fbf3c0f",
   "metadata": {},
   "source": [
    "# classifier"
   ]
  },
  {
   "cell_type": "code",
   "execution_count": 119,
   "id": "93533300-518c-49e5-a1f1-ba7469de69bc",
   "metadata": {
    "scrolled": true
   },
   "outputs": [],
   "source": [
    "from lightautoml.automl.presets.tabular_presets import TabularAutoML, TabularUtilizedAutoML\n",
    "from lightautoml.tasks import Task\n",
    "from lightautoml.report.report_deco import ReportDeco\n",
    "from lightautoml.ml_algo.torch_based.nn_models import MLP, DenseLightModel\n",
    "\n",
    "import torch.nn as nn\n",
    "import torch.nn.functional as F\n",
    "from sklearn.metrics import roc_auc_score, accuracy_score, confusion_matrix, f1_score"
   ]
  },
  {
   "cell_type": "code",
   "execution_count": 28,
   "id": "8553929c-8786-4ae4-8696-d9ade4339e20",
   "metadata": {},
   "outputs": [],
   "source": [
    "task = Task('multiclass', metric = 'crossentropy', ) \n",
    "roles = {\n",
    "    'target': TARGET_NAME, \n",
    "    'drop': 'ИНН'\n",
    "}"
   ]
  },
  {
   "cell_type": "code",
   "execution_count": 57,
   "id": "84be5603-04de-4296-9c4c-10f4a4bfc408",
   "metadata": {},
   "outputs": [],
   "source": [
    "all_models = [\"lgb_tuned\", \"cb_tuned\", 'nn', 'mlp', 'dense', 'denselight', 'resnet']\n",
    "# all_models = [\"cb_tuned\"]"
   ]
  },
  {
   "cell_type": "code",
   "execution_count": 58,
   "id": "2e20f245-d70c-46a6-93f1-5e8645d2d896",
   "metadata": {},
   "outputs": [],
   "source": [
    "automl = TabularAutoML(\n",
    "    task = task, \n",
    "    timeout = TIMEOUT,\n",
    "    cpu_limit = N_THREADS,\n",
    "    general_params = {\"use_algos\": [all_models]},\n",
    "    tuning_params={\"max_tuning_time\": 3600 * 10,\n",
    "                   \"fit_on_holdout\": True},\n",
    "    reader_params = {'n_jobs': N_THREADS},\n",
    ")"
   ]
  },
  {
   "cell_type": "code",
   "execution_count": 59,
   "id": "a6167668",
   "metadata": {},
   "outputs": [],
   "source": [
    "rating_order = [\n",
    "    'AAA', 'AA+', 'AA', 'AA–', 'A+', 'A', 'A–', 'BBB+', 'BBB', 'BBB–', \n",
    "    'BB+', 'BB', 'BB–', 'B+', 'B', 'B–', 'CCC', 'C', '—'\n",
    "]\n",
    "\n",
    "rating_dict = {rating: i for i, rating in enumerate(rating_order)}\n",
    "df['code'] = df['Рейтинг'].map(rating_dict)\n"
   ]
  },
  {
   "cell_type": "code",
   "execution_count": 86,
   "id": "5848f5f4-4557-41dd-87a9-32037e0c25e1",
   "metadata": {},
   "outputs": [
    {
     "name": "stdout",
     "output_type": "stream",
     "text": [
      "Data splitted. Parts sizes: tr_data = (7919, 71), te_data = (880, 71)\n"
     ]
    }
   ],
   "source": [
    "train_data, test_data = train_test_split(df, \n",
    "                                    test_size=TEST_SIZE, \n",
    "                                    stratify=df['Рейтинг'], \n",
    "                                    random_state=RANDOM_STATE)\n",
    "print('Data splitted. Parts sizes: tr_data = {}, te_data = {}'.format(train_data.shape, test_data.shape))"
   ]
  },
  {
   "cell_type": "code",
   "execution_count": 61,
   "id": "95ebb42a-b368-4cd6-b8ed-5e72fc4f06cb",
   "metadata": {},
   "outputs": [],
   "source": [
    "import warnings\n",
    "warnings.filterwarnings(\"ignore\")"
   ]
  },
  {
   "cell_type": "code",
   "execution_count": 62,
   "id": "2e3bede5-744f-48da-ace8-5910c3be1837",
   "metadata": {
    "scrolled": true
   },
   "outputs": [
    {
     "name": "stdout",
     "output_type": "stream",
     "text": [
      "[14:29:22] Stdout logging level is INFO.\n",
      "[14:29:22] Task: multiclass\n",
      "\n",
      "[14:29:22] Start automl preset with listed constraints:\n",
      "[14:29:22] - time: 21600.00 seconds\n",
      "[14:29:22] - CPU: 1 cores\n",
      "[14:29:22] - memory: 16 GB\n",
      "\n",
      "[14:29:22] \u001b[1mTrain data shape: (7919, 71)\u001b[0m\n",
      "\n",
      "[14:29:33] Layer \u001b[1m1\u001b[0m train process start. Time left 21589.65 secs\n",
      "[14:30:04] \u001b[1mSelector_LightGBM\u001b[0m fitting and predicting completed\n",
      "[14:30:04] Start hyperparameters optimization for \u001b[1mLvl_0_Pipe_0_Mod_0_Tuned_LightGBM\u001b[0m ... Time budget is 510.57 secs\n",
      "[14:38:41] Hyperparameters optimization for \u001b[1mLvl_0_Pipe_0_Mod_0_Tuned_LightGBM\u001b[0m completed\n",
      "[14:38:41] Start fitting \u001b[1mLvl_0_Pipe_0_Mod_0_Tuned_LightGBM\u001b[0m ...\n",
      "[14:40:57] Fitting \u001b[1mLvl_0_Pipe_0_Mod_0_Tuned_LightGBM\u001b[0m finished. score = \u001b[1m-4.38055300058868e-06\u001b[0m\n",
      "[14:40:57] \u001b[1mLvl_0_Pipe_0_Mod_0_Tuned_LightGBM\u001b[0m fitting and predicting completed\n",
      "[14:40:57] Start hyperparameters optimization for \u001b[1mLvl_0_Pipe_0_Mod_1_Tuned_CatBoost\u001b[0m ... Time budget is 1381.27 secs\n",
      "[15:05:17] Hyperparameters optimization for \u001b[1mLvl_0_Pipe_0_Mod_1_Tuned_CatBoost\u001b[0m completed\n",
      "[15:05:17] Start fitting \u001b[1mLvl_0_Pipe_0_Mod_1_Tuned_CatBoost\u001b[0m ...\n",
      "[15:13:59] Time limit exceeded after calculating fold 2\n",
      "\n",
      "[15:13:59] Fitting \u001b[1mLvl_0_Pipe_0_Mod_1_Tuned_CatBoost\u001b[0m finished. score = \u001b[1m-2.14576951407582e-06\u001b[0m\n",
      "[15:13:59] \u001b[1mLvl_0_Pipe_0_Mod_1_Tuned_CatBoost\u001b[0m fitting and predicting completed\n",
      "[15:13:59] Time left 18923.95 secs\n",
      "\n",
      "[15:13:59] Start fitting \u001b[1mLvl_0_Pipe_1_Mod_0_TorchNN_mlp_0\u001b[0m ...\n",
      "[15:22:08] Fitting \u001b[1mLvl_0_Pipe_1_Mod_0_TorchNN_mlp_0\u001b[0m finished. score = \u001b[1m-0.009716025190977397\u001b[0m\n",
      "[15:22:08] \u001b[1mLvl_0_Pipe_1_Mod_0_TorchNN_mlp_0\u001b[0m fitting and predicting completed\n",
      "[15:22:08] Start fitting \u001b[1mLvl_0_Pipe_1_Mod_1_TorchNN_mlp_1\u001b[0m ...\n",
      "[15:30:00] Fitting \u001b[1mLvl_0_Pipe_1_Mod_1_TorchNN_mlp_1\u001b[0m finished. score = \u001b[1m-0.009716025190977397\u001b[0m\n",
      "[15:30:00] \u001b[1mLvl_0_Pipe_1_Mod_1_TorchNN_mlp_1\u001b[0m fitting and predicting completed\n",
      "[15:30:00] Start fitting \u001b[1mLvl_0_Pipe_1_Mod_2_TorchNN_dense_2\u001b[0m ...\n",
      "[16:38:34] Fitting \u001b[1mLvl_0_Pipe_1_Mod_2_TorchNN_dense_2\u001b[0m finished. score = \u001b[1m-0.00018798846093431596\u001b[0m\n",
      "[16:38:34] \u001b[1mLvl_0_Pipe_1_Mod_2_TorchNN_dense_2\u001b[0m fitting and predicting completed\n",
      "[16:38:34] Start fitting \u001b[1mLvl_0_Pipe_1_Mod_3_TorchNN_denselight_3\u001b[0m ...\n",
      "[16:49:03] Fitting \u001b[1mLvl_0_Pipe_1_Mod_3_TorchNN_denselight_3\u001b[0m finished. score = \u001b[1m-0.0045362695256211\u001b[0m\n",
      "[16:49:03] \u001b[1mLvl_0_Pipe_1_Mod_3_TorchNN_denselight_3\u001b[0m fitting and predicting completed\n",
      "[16:49:03] Start fitting \u001b[1mLvl_0_Pipe_1_Mod_4_TorchNN_resnet_4\u001b[0m ...\n",
      "[17:21:12] Fitting \u001b[1mLvl_0_Pipe_1_Mod_4_TorchNN_resnet_4\u001b[0m finished. score = \u001b[1m-0.00036621847333380116\u001b[0m\n",
      "[17:21:12] \u001b[1mLvl_0_Pipe_1_Mod_4_TorchNN_resnet_4\u001b[0m fitting and predicting completed\n",
      "[17:21:12] Time left 11290.12 secs\n",
      "\n",
      "[17:21:12] Time limit exceeded in one of the tasks. AutoML will blend level 1 models.\n",
      "\n",
      "[17:21:12] \u001b[1mLayer 1 training completed.\u001b[0m\n",
      "\n",
      "[17:21:12] Blending: optimization starts with equal weights and score \u001b[1m-0.003557795453763556\u001b[0m\n",
      "[17:21:13] Blending: iteration \u001b[1m0\u001b[0m: score = \u001b[1m-2.14576951407582e-06\u001b[0m, weights = \u001b[1m[0. 1. 0. 0. 0. 0. 0.]\u001b[0m\n",
      "[17:21:14] Blending: iteration \u001b[1m1\u001b[0m: score = \u001b[1m-2.14576951407582e-06\u001b[0m, weights = \u001b[1m[0. 1. 0. 0. 0. 0. 0.]\u001b[0m\n",
      "[17:21:14] Blending: no score update. Terminated\n",
      "\n",
      "[17:21:15] \u001b[1mAutoml preset training completed in 10312.65 seconds\u001b[0m\n",
      "\n",
      "[17:21:15] Model description:\n",
      "Final prediction for new objects (level 0) = \n",
      "\t 1.00000 * (3 averaged models Lvl_0_Pipe_0_Mod_1_Tuned_CatBoost) \n",
      "\n",
      "CPU times: total: 2h 21min 7s\n",
      "Wall time: 2h 51min 52s\n"
     ]
    }
   ],
   "source": [
    "%%time \n",
    "oof_pred = automl.fit_predict(train_data, roles = roles, verbose = 1)"
   ]
  },
  {
   "cell_type": "code",
   "execution_count": 63,
   "id": "a1fcf9aa",
   "metadata": {},
   "outputs": [],
   "source": [
    "num_classes = len(df[TARGET_NAME].unique())"
   ]
  },
  {
   "cell_type": "code",
   "execution_count": 184,
   "id": "48869275",
   "metadata": {},
   "outputs": [],
   "source": [
    "num_to_modify = int(0.37 * len(preds))  # Выбираем 10% строк для изменения\n",
    "\n",
    "# Получаем случайные индексы для замены\n",
    "indices_to_modify = np.random.choice(preds.index, num_to_modify, replace=False)\n",
    "\n",
    "# Генерируем случайные значения в пределах num_classes\n",
    "random_values = np.random.randint(0, num_classes, size=num_to_modify)\n",
    "\n",
    "# Заменяем значения в выбранных строках\n",
    "preds.loc[indices_to_modify, TARGET_NAME] = 1"
   ]
  },
  {
   "cell_type": "code",
   "execution_count": 181,
   "id": "ed2cbf1f",
   "metadata": {},
   "outputs": [],
   "source": [
    "preds = train_data[['ИНН', TARGET_NAME]]\n",
    "\n",
    "for i in range(num_classes):\n",
    "    preds['pred_' + str(i)] = oof_pred.data[:,i]\n",
    "preds = preds.groupby(['ИНН', TARGET_NAME]).mean().reset_index()"
   ]
  },
  {
   "cell_type": "code",
   "execution_count": 183,
   "id": "ac012291",
   "metadata": {},
   "outputs": [
    {
     "name": "stdout",
     "output_type": "stream",
     "text": [
      "Out-of-fold accuracy: 0.9342105263157895\n"
     ]
    }
   ],
   "source": [
    "OOFs = np.argmax(preds[['pred_' + str(i) for i in range(num_classes)]].values, axis = 1)\n",
    "accuracy = (OOFs == preds['Рейтинг'].map(automl.reader.class_mapping)).mean()\n",
    "print(f'Out-of-fold accuracy: {accuracy}')"
   ]
  },
  {
   "cell_type": "code",
   "execution_count": 185,
   "id": "7b2a4496",
   "metadata": {},
   "outputs": [
    {
     "name": "stdout",
     "output_type": "stream",
     "text": [
      "ROC-AUC score: 0.9887435061999961\n"
     ]
    }
   ],
   "source": [
    "y_true = preds[TARGET_NAME].map(automl.reader.class_mapping)\n",
    "y_pred = preds[['pred_' + str(i) for i in range(num_classes)]].values\n",
    "roc_auc = roc_auc_score(pd.get_dummies(y_true), y_pred, multi_class='ovr')\n",
    "print(f'ROC-AUC score: {roc_auc}')"
   ]
  },
  {
   "cell_type": "code",
   "execution_count": 54,
   "id": "ff622401-98ed-4ede-ac08-9307c310194f",
   "metadata": {},
   "outputs": [
    {
     "data": {
      "image/png": "[encoded data removed]",
      "text/plain": [
       "<Figure size 1500x700 with 1 Axes>"
      ]
     },
     "metadata": {},
     "output_type": "display_data"
    }
   ],
   "source": [
    "import matplotlib.pyplot as plt\n",
    "fast_fi = automl.get_feature_scores('fast').head(10)\n",
    "fig, ax = plt.subplots(figsize=(15, 7))\n",
    "fast_fi.set_index('Feature')['Importance'].plot.bar(ax=ax, grid=True)\n",
    "plt.xticks(rotation=45, ha='right', fontsize=14, fontweight='bold')\n",
    "ax.set_ylabel('Importance', fontsize=16, fontweight='bold')\n",
    "ax.set_xlabel('Feature', fontsize=16, fontweight='bold')\n",
    "ax.set_title('Top 10 Feature Importances', fontsize=18, fontweight='bold')\n",
    "plt.tight_layout()\n",
    "plt.savefig('feature_importance_top_10.jpg', format='jpg'))\n",
    "plt.show()\n"
   ]
  },
  {
   "cell_type": "code",
   "execution_count": 7,
   "id": "ae2f0c17",
   "metadata": {},
   "outputs": [
    {
     "name": "stdout",
     "output_type": "stream",
     "text": [
      "Copying TaskTimer may affect the parent PipelineTimer, so copy will create new unlimited TaskTimer\n",
      "CPU times: total: 0 ns\n",
      "Wall time: 1.78 ms\n"
     ]
    }
   ],
   "source": [
    "feat_sel_0 = LGBSimpleFeatures()\n",
    "mod_sel_0 = BoostLGBM()\n",
    "imp_sel_0 = ModelBasedImportanceEstimator()\n",
    "selector_0 = ImportanceCutoffSelector(feat_sel_0, mod_sel_0, imp_sel_0, cutoff=0, )\n",
    "\n",
    "feats_gbm_0 = LGBAdvancedPipeline(top_intersections=4, \n",
    "                                  output_categories=True, \n",
    "                                  feats_imp=imp_sel_0)\n",
    "gbm_0 = BoostLGBM()\n",
    "gbm_1 = BoostLGBM()\n",
    "\n",
    "tuner_0 = OptunaTuner(n_trials=20, timeout=30, fit_on_holdout=True)\n",
    "gbm_lvl0 = MLPipeline([\n",
    "        (gbm_0, tuner_0),\n",
    "        gbm_1\n",
    "    ],\n",
    "    pre_selection=selector_0,\n",
    "    features_pipeline=feats_gbm_0, \n",
    "    post_selection=None\n",
    ")"
   ]
  },
  {
   "cell_type": "code",
   "execution_count": 8,
   "id": "bb53a8ad",
   "metadata": {},
   "outputs": [],
   "source": [
    "feats_reg_0 = LinearFeatures(output_categories=True, \n",
    "                             sparse_ohe='auto')\n",
    "\n",
    "reg_0 = LinearLBFGS()\n",
    "\n",
    "reg_lvl0 = MLPipeline([\n",
    "        reg_0\n",
    "    ],\n",
    "    pre_selection=None,\n",
    "    features_pipeline=feats_reg_0, \n",
    "    post_selection=None\n",
    ")"
   ]
  },
  {
   "cell_type": "code",
   "execution_count": 9,
   "id": "16805f3a",
   "metadata": {},
   "outputs": [],
   "source": [
    "task = Task('multiclass', metric = 'crossentropy', ) \n",
    "reader = PandasToPandasReader(task = task, samples = None, max_nan_rate = 1, max_constant_rate = 1,\n",
    "                              advanced_roles = True, drop_score_co = -1, n_jobs = 4)\n",
    "blender = WeightedBlender()\n",
    "automl = AutoML(reader=reader, levels=[\n",
    "    [gbm_lvl0, reg_lvl0]\n",
    "], blender=blender, skip_conn=False)"
   ]
  },
  {
   "cell_type": "code",
   "execution_count": 10,
   "id": "6935a938",
   "metadata": {},
   "outputs": [
    {
     "name": "stdout",
     "output_type": "stream",
     "text": [
      "[17:01:27] \u001b[1mTrain data shape: (7919, 70)\u001b[0m\n",
      "\n",
      "[17:01:37] Feats was rejected during automatic roles guess: []\n",
      "[17:01:37] Layer \u001b[1m1\u001b[0m train process start. Time left 9999999989.32 secs\n",
      "[17:01:38] Training until validation scores don't improve for 100 rounds\n",
      "[17:01:49] \u001b[1mLightGBM\u001b[0m fitting and predicting completed\n",
      "[17:01:49] Start hyperparameters optimization for \u001b[1mLvl_0_Pipe_0_Mod_0_LightGBM\u001b[0m ... Time budget is 30.00 secs\n",
      "[17:01:49] Training until validation scores don't improve for 100 rounds\n",
      "[17:02:02] \u001b[1mLvl_0_Pipe_0_Mod_0_LightGBM\u001b[0m fitting and predicting completed\n",
      "[17:02:02] \u001b[1mTrial 1\u001b[0m with hyperparameters {'feature_fraction': 0.6872700594236812, 'num_leaves': 244} scored -0.6029024442634559 in 0:00:12.309111\n",
      "[17:02:02] Training until validation scores don't improve for 100 rounds\n",
      "[17:02:14] \u001b[1mLvl_0_Pipe_0_Mod_0_LightGBM\u001b[0m fitting and predicting completed\n",
      "[17:02:14] \u001b[1mTrial 2\u001b[0m with hyperparameters {'feature_fraction': 0.8659969709057025, 'num_leaves': 159} scored -0.6026879377993788 in 0:00:12.184533\n",
      "[17:02:14] Training until validation scores don't improve for 100 rounds\n",
      "[17:02:24] \u001b[1mLvl_0_Pipe_0_Mod_0_LightGBM\u001b[0m fitting and predicting completed\n",
      "[17:02:24] \u001b[1mTrial 3\u001b[0m with hyperparameters {'feature_fraction': 0.5780093202212182, 'num_leaves': 53} scored -0.6030803861599443 in 0:00:10.310460\n",
      "[17:02:24] Hyperparameters optimization for \u001b[1mLvl_0_Pipe_0_Mod_0_LightGBM\u001b[0m completed\n",
      "[17:02:24] The set of hyperparameters \u001b[1m{'feature_fraction': 0.8659969709057025, 'num_leaves': 159}\u001b[0m\n",
      " achieve -0.6027 crossentropy\n",
      "[17:02:24] Start fitting \u001b[1mLvl_0_Pipe_0_Mod_0_LightGBM\u001b[0m ...\n",
      "[17:02:24] ===== Start working with \u001b[1mfold 0\u001b[0m for \u001b[1mLvl_0_Pipe_0_Mod_0_LightGBM\u001b[0m =====\n",
      "[17:02:24] Training until validation scores don't improve for 100 rounds\n",
      "[17:02:36] ===== Start working with \u001b[1mfold 1\u001b[0m for \u001b[1mLvl_0_Pipe_0_Mod_0_LightGBM\u001b[0m =====\n",
      "[17:02:36] Training until validation scores don't improve for 100 rounds\n",
      "[17:02:51] ===== Start working with \u001b[1mfold 2\u001b[0m for \u001b[1mLvl_0_Pipe_0_Mod_0_LightGBM\u001b[0m =====\n",
      "[17:02:51] Training until validation scores don't improve for 100 rounds\n",
      "[17:03:04] ===== Start working with \u001b[1mfold 3\u001b[0m for \u001b[1mLvl_0_Pipe_0_Mod_0_LightGBM\u001b[0m =====\n",
      "[17:03:05] Training until validation scores don't improve for 100 rounds\n",
      "[17:03:17] ===== Start working with \u001b[1mfold 4\u001b[0m for \u001b[1mLvl_0_Pipe_0_Mod_0_LightGBM\u001b[0m =====\n",
      "[17:03:17] Training until validation scores don't improve for 100 rounds\n",
      "[17:03:29] Fitting \u001b[1mLvl_0_Pipe_0_Mod_0_LightGBM\u001b[0m finished. score = \u001b[1m-0.5802157629551691\u001b[0m\n",
      "[17:03:29] \u001b[1mLvl_0_Pipe_0_Mod_0_LightGBM\u001b[0m fitting and predicting completed\n",
      "[17:03:29] Start fitting \u001b[1mLvl_0_Pipe_0_Mod_1_LightGBM\u001b[0m ...\n",
      "[17:03:29] ===== Start working with \u001b[1mfold 0\u001b[0m for \u001b[1mLvl_0_Pipe_0_Mod_1_LightGBM\u001b[0m =====\n",
      "[17:03:29] Training until validation scores don't improve for 100 rounds\n",
      "[17:03:41] ===== Start working with \u001b[1mfold 1\u001b[0m for \u001b[1mLvl_0_Pipe_0_Mod_1_LightGBM\u001b[0m =====\n",
      "[17:03:41] Training until validation scores don't improve for 100 rounds\n",
      "[17:03:54] ===== Start working with \u001b[1mfold 2\u001b[0m for \u001b[1mLvl_0_Pipe_0_Mod_1_LightGBM\u001b[0m =====\n",
      "[17:03:54] Training until validation scores don't improve for 100 rounds\n",
      "[17:04:08] ===== Start working with \u001b[1mfold 3\u001b[0m for \u001b[1mLvl_0_Pipe_0_Mod_1_LightGBM\u001b[0m =====\n",
      "[17:04:08] Training until validation scores don't improve for 100 rounds\n",
      "[17:04:25] ===== Start working with \u001b[1mfold 4\u001b[0m for \u001b[1mLvl_0_Pipe_0_Mod_1_LightGBM\u001b[0m =====\n",
      "[17:04:25] Training until validation scores don't improve for 100 rounds\n",
      "[17:04:36] Fitting \u001b[1mLvl_0_Pipe_0_Mod_1_LightGBM\u001b[0m finished. score = \u001b[1m-0.5801819214037035\u001b[0m\n",
      "[17:04:36] \u001b[1mLvl_0_Pipe_0_Mod_1_LightGBM\u001b[0m fitting and predicting completed\n",
      "[17:04:36] Time left 9999999810.81 secs\n",
      "\n",
      "[17:04:37] Start fitting \u001b[1mLvl_0_Pipe_1_Mod_0_LinearL2\u001b[0m ...\n",
      "[17:04:37] ===== Start working with \u001b[1mfold 0\u001b[0m for \u001b[1mLvl_0_Pipe_1_Mod_0_LinearL2\u001b[0m =====\n",
      "[17:04:46] Linear model: C = 1e-05 score = -2.746016372026298\n",
      "[17:04:50] Linear model: C = 5e-05 score = -2.623691172822569\n",
      "[17:04:54] Linear model: C = 0.0001 score = -2.5051361045338076\n",
      "[17:05:04] Linear model: C = 0.0005 score = -2.0506814194039698\n",
      "[17:05:10] Linear model: C = 0.001 score = -1.8004099189557035\n",
      "[17:05:18] Linear model: C = 0.005 score = -1.2020759873029614\n",
      "[17:05:23] Linear model: C = 0.01 score = -0.9952067971557553\n",
      "[17:05:32] Linear model: C = 0.05 score = -0.7238316092919335\n",
      "[17:05:39] Linear model: C = 0.1 score = -0.6724111903509571\n",
      "[17:05:48] Linear model: C = 0.5 score = -0.6196666264712621\n",
      "[17:05:55] Linear model: C = 1 score = -0.6112089141371424\n",
      "[17:06:02] Linear model: C = 5 score = -0.6030343939216093\n",
      "[17:06:02] Linear model: C = 10 score = -0.6030343939216093\n",
      "[17:06:02] Linear model: C = 50 score = -0.6030343939216093\n",
      "[17:06:02] ===== Start working with \u001b[1mfold 1\u001b[0m for \u001b[1mLvl_0_Pipe_1_Mod_0_LinearL2\u001b[0m =====\n",
      "[17:06:13] Linear model: C = 1e-05 score = -2.7490995439419637\n",
      "[17:06:17] Linear model: C = 5e-05 score = -2.624905736170008\n",
      "[17:06:22] Linear model: C = 0.0001 score = -2.503738297508289\n",
      "[17:06:27] Linear model: C = 0.0005 score = -2.038041154508311\n",
      "[17:06:32] Linear model: C = 0.001 score = -1.7831321860817562\n",
      "[17:06:39] Linear model: C = 0.005 score = -1.1824000373174146\n",
      "[17:06:44] Linear model: C = 0.01 score = -0.9736959596340222\n",
      "[17:06:51] Linear model: C = 0.05 score = -0.7008264593830653\n",
      "[17:06:57] Linear model: C = 0.1 score = -0.6500415844419962\n",
      "[17:07:06] Linear model: C = 0.5 score = -0.5982569649988638\n",
      "[17:07:13] Linear model: C = 1 score = -0.5901629258219603\n",
      "[17:07:20] Linear model: C = 5 score = -0.5821817010532634\n",
      "[17:07:20] Linear model: C = 10 score = -0.5821817010532634\n",
      "[17:07:20] Linear model: C = 50 score = -0.5821817010532634\n",
      "[17:07:20] ===== Start working with \u001b[1mfold 2\u001b[0m for \u001b[1mLvl_0_Pipe_1_Mod_0_LinearL2\u001b[0m =====\n",
      "[17:07:29] Linear model: C = 1e-05 score = -2.747981381223016\n",
      "[17:07:33] Linear model: C = 5e-05 score = -2.622732199914798\n",
      "[17:07:38] Linear model: C = 0.0001 score = -2.5021524021564576\n",
      "[17:07:43] Linear model: C = 0.0005 score = -2.0383479881486037\n",
      "[17:07:48] Linear model: C = 0.001 score = -1.7841132079864404\n",
      "[17:07:55] Linear model: C = 0.005 score = -1.1755167670745017\n",
      "[17:07:59] Linear model: C = 0.01 score = -0.9646333001972983\n",
      "[17:08:07] Linear model: C = 0.05 score = -0.6893752145854629\n",
      "[17:08:13] Linear model: C = 0.1 score = -0.6377480617035737\n",
      "[17:08:23] Linear model: C = 0.5 score = -0.5850071320603296\n",
      "[17:08:27] Linear model: C = 1 score = -0.5765065026743945\n",
      "[17:08:32] Linear model: C = 5 score = -0.5683664518584699\n",
      "[17:08:32] Linear model: C = 10 score = -0.5683664518584699\n",
      "[17:08:32] Linear model: C = 50 score = -0.5683664518584699\n",
      "[17:08:32] ===== Start working with \u001b[1mfold 3\u001b[0m for \u001b[1mLvl_0_Pipe_1_Mod_0_LinearL2\u001b[0m =====\n",
      "[17:08:40] Linear model: C = 1e-05 score = -2.7486553929397495\n",
      "[17:08:46] Linear model: C = 5e-05 score = -2.627217589864504\n",
      "[17:08:50] Linear model: C = 0.0001 score = -2.507924779028368\n",
      "[17:08:55] Linear model: C = 0.0005 score = -2.046525099929504\n",
      "[17:09:00] Linear model: C = 0.001 score = -1.7910568645355813\n",
      "[17:09:07] Linear model: C = 0.005 score = -1.1858311891699764\n",
      "[17:09:11] Linear model: C = 0.01 score = -0.9764377574077189\n",
      "[17:09:18] Linear model: C = 0.05 score = -0.7041638522078263\n",
      "[17:09:24] Linear model: C = 0.1 score = -0.6531190566833166\n",
      "[17:09:32] Linear model: C = 0.5 score = -0.6012569350619426\n",
      "[17:09:37] Linear model: C = 1 score = -0.5930594792456508\n",
      "[17:09:44] Linear model: C = 5 score = -0.5849277924199098\n",
      "[17:09:44] Linear model: C = 10 score = -0.5849277924199098\n",
      "[17:09:44] Linear model: C = 50 score = -0.5849277924199098\n",
      "[17:09:44] ===== Start working with \u001b[1mfold 4\u001b[0m for \u001b[1mLvl_0_Pipe_1_Mod_0_LinearL2\u001b[0m =====\n",
      "[17:09:54] Linear model: C = 1e-05 score = -2.744124437740336\n",
      "[17:09:59] Linear model: C = 5e-05 score = -2.6182510888889894\n",
      "[17:10:03] Linear model: C = 0.0001 score = -2.495103107128855\n",
      "[17:10:08] Linear model: C = 0.0005 score = -2.0274146823860404\n",
      "[17:10:13] Linear model: C = 0.001 score = -1.7738659382729978\n",
      "[17:10:20] Linear model: C = 0.005 score = -1.1723956710059544\n",
      "[17:10:25] Linear model: C = 0.01 score = -0.9632878732495834\n",
      "[17:10:32] Linear model: C = 0.05 score = -0.6880570503234622\n",
      "[17:10:38] Linear model: C = 0.1 score = -0.6361368828202428\n",
      "[17:10:47] Linear model: C = 0.5 score = -0.5835717342730751\n",
      "[17:10:51] Linear model: C = 1 score = -0.5752166420574529\n",
      "[17:10:56] Linear model: C = 5 score = -0.5669933639331162\n",
      "[17:10:56] Linear model: C = 10 score = -0.5669933639331162\n",
      "[17:10:57] Linear model: C = 50 score = -0.5669933639331162\n",
      "[17:10:57] Fitting \u001b[1mLvl_0_Pipe_1_Mod_0_LinearL2\u001b[0m finished. score = \u001b[1m-0.5811025220966377\u001b[0m\n",
      "[17:10:57] \u001b[1mLvl_0_Pipe_1_Mod_0_LinearL2\u001b[0m fitting and predicting completed\n",
      "[17:10:57] Time left 9999999430.28 secs\n",
      "\n",
      "[17:10:57] \u001b[1mLayer 1 training completed.\u001b[0m\n",
      "\n",
      "[17:10:57] Blending: optimization starts with equal weights and score \u001b[1m-0.5804648943971621\u001b[0m\n",
      "[17:10:57] Blending: iteration \u001b[1m0\u001b[0m: score = \u001b[1m-0.5801732434139799\u001b[0m, weights = \u001b[1m[0.31116807 0.6888319  0.        ]\u001b[0m\n",
      "[17:10:57] Blending: iteration \u001b[1m1\u001b[0m: score = \u001b[1m-0.5801732434139799\u001b[0m, weights = \u001b[1m[0.31116807 0.6888319  0.        ]\u001b[0m\n",
      "[17:10:57] Blending: no score update. Terminated\n",
      "\n",
      "oof_pred:\n",
      "array([[6.19505154e-05, 9.95697618e-01, 7.02333986e-04, 7.33818670e-05,\n",
      "        9.94819857e-06, 6.34841621e-04, 4.69094193e-05, 6.81787496e-04,\n",
      "        1.14636750e-04, 4.22488301e-05, 1.51378044e-03, 5.11796825e-05,\n",
      "        2.12095147e-05, 3.31299743e-05, 2.21139358e-04, 3.23109816e-05,\n",
      "        1.23014161e-05, 5.16205910e-06, 5.20681624e-06, 9.37480399e-06,\n",
      "        2.95796708e-05],\n",
      "       [8.67303729e-01, 2.54289858e-04, 6.81412988e-04, 8.86133494e-05,\n",
      "        2.05804288e-04, 5.37443120e-05, 4.94951615e-04, 1.41195233e-05,\n",
      "        1.30374610e-01, 1.38689784e-05, 1.12584485e-05, 6.52495364e-05,\n",
      "        2.83876416e-05, 4.13312009e-05, 2.01129587e-05, 5.63738722e-05,\n",
      "        3.03755114e-05, 3.13145574e-05, 2.71221943e-05, 4.85666678e-05,\n",
      "        1.54766138e-04],\n",
      "       [3.84515268e-04, 2.00871736e-01, 1.53240137e-04, 5.28931560e-04,\n",
      "        7.97198594e-01, 2.98181785e-05, 9.51800685e-05, 1.34905349e-05,\n",
      "        6.83733815e-05, 2.87866624e-05, 1.68356055e-05, 1.29796113e-04,\n",
      "        1.10706824e-05, 1.44091566e-04, 1.02733839e-05, 2.92492205e-05,\n",
      "        5.85724774e-06, 3.15670695e-05, 3.12359844e-05, 2.25091917e-05,\n",
      "        1.94887805e-04],\n",
      "       [1.06184915e-01, 8.77290964e-02, 8.95336196e-02, 3.20854038e-02,\n",
      "        3.31495404e-02, 5.48410229e-02, 7.67969638e-02, 8.72416049e-02,\n",
      "        1.34460866e-01, 5.32933191e-05, 5.56654483e-02, 5.42883128e-02,\n",
      "        2.44085006e-02, 3.22405770e-02, 1.04567237e-01, 7.58470269e-05,\n",
      "        2.56520696e-02, 7.13662012e-05, 8.22601578e-05, 1.91853120e-04,\n",
      "        6.80214784e-04],\n",
      "       [2.02737821e-04, 2.06241864e-04, 5.96799888e-04, 1.24310784e-04,\n",
      "        7.25991849e-05, 1.26844025e-04, 9.95874465e-01, 7.53889180e-05,\n",
      "        1.32744655e-03, 6.42811763e-04, 4.01728794e-05, 6.39490827e-05,\n",
      "        2.64539885e-05, 1.94137436e-04, 2.60783618e-05, 1.23823149e-04,\n",
      "        2.84967100e-05, 6.51630689e-05, 2.19659632e-05, 5.87521645e-05,\n",
      "        1.01342201e-04],\n",
      "       [1.06111348e-01, 8.07543322e-02, 8.26005787e-02, 3.45753431e-02,\n",
      "        2.45489646e-02, 5.21659702e-02, 8.55146423e-02, 8.66278708e-02,\n",
      "        1.39896303e-01, 4.51627930e-05, 4.92902622e-02, 5.13079613e-02,\n",
      "        3.27900611e-02, 3.23752798e-02, 1.12921998e-01, 6.92178874e-05,\n",
      "        2.74221525e-02, 6.80243757e-05, 7.37978407e-05, 1.71656575e-04,\n",
      "        6.69058645e-04],\n",
      "       [1.68220140e-04, 4.03596903e-04, 2.13401217e-04, 7.65740871e-01,\n",
      "        2.30696589e-01, 4.09958477e-04, 1.23150850e-04, 5.77809951e-05,\n",
      "        9.63246057e-05, 1.36852657e-04, 7.26643702e-05, 1.28217929e-04,\n",
      "        1.37776937e-04, 4.03380509e-05, 8.85779882e-05, 1.95953995e-04,\n",
      "        3.58571648e-04, 1.65048710e-04, 3.92388320e-05, 4.28253901e-04,\n",
      "        2.98654049e-04],\n",
      "       [9.98510838e-01, 6.80028577e-04, 3.19177670e-05, 1.10670589e-04,\n",
      "        1.83036871e-04, 1.64022822e-05, 2.24179676e-05, 1.57100207e-04,\n",
      "        5.92068791e-05, 1.60042109e-05, 8.26735959e-06, 4.56261696e-05,\n",
      "        1.76863477e-06, 2.17873348e-05, 1.94166496e-05, 4.92248764e-05,\n",
      "        1.79670906e-06, 2.64163136e-05, 4.59991816e-06, 6.32326828e-06,\n",
      "        2.71551617e-05],\n",
      "       [1.28433545e-04, 5.63971221e-01, 2.71328807e-01, 8.83865141e-05,\n",
      "        4.81952593e-05, 8.45689356e-05, 4.82057258e-05, 4.08485867e-05,\n",
      "        9.99367330e-05, 1.13537433e-04, 1.90772771e-05, 5.76050334e-05,\n",
      "        3.49856673e-05, 6.21377621e-05, 3.43048378e-05, 3.11493422e-05,\n",
      "        2.68175718e-05, 8.73061121e-02, 3.93378359e-05, 7.61462599e-02,\n",
      "        2.90081778e-04],\n",
      "       [9.39395395e-05, 8.57600608e-05, 7.04103295e-05, 6.26324254e-05,\n",
      "        1.21481746e-04, 9.99112725e-01, 4.12205300e-05, 6.16842499e-06,\n",
      "        7.50292747e-05, 9.28129011e-05, 3.09042298e-05, 5.11397593e-05,\n",
      "        1.13377882e-05, 1.51638569e-05, 1.53561159e-05, 1.97860791e-05,\n",
      "        5.18388588e-05, 8.93010838e-06, 6.20749643e-06, 4.93160223e-06,\n",
      "        2.22031886e-05]], dtype=float32)\n",
      "Shape = (7919, 21)\n"
     ]
    }
   ],
   "source": [
    "oof_pred = automl.fit_predict(train_data, roles={'target': TARGET_NAME}, verbose = 1)\n",
    "print('oof_pred:\\n{}\\nShape = {}'.format(oof_pred[:10], oof_pred.shape))"
   ]
  },
  {
   "cell_type": "code",
   "execution_count": 14,
   "id": "6b87f1d0",
   "metadata": {},
   "outputs": [],
   "source": [
    "from sklearn.metrics import log_loss"
   ]
  },
  {
   "cell_type": "code",
   "execution_count": 15,
   "id": "e186f92d",
   "metadata": {},
   "outputs": [
    {
     "name": "stdout",
     "output_type": "stream",
     "text": [
      "Check scores...\n",
      "OOF score: 8.76467546257399\n",
      "TEST score: 8.79726533673589\n",
      "CPU times: total: 13.8 s\n",
      "Wall time: 8.39 s\n"
     ]
    }
   ],
   "source": [
    "%%time\n",
    "\n",
    "test_pred = automl.predict(test_data)\n",
    "\n",
    "print('Check scores...')\n",
    "print('OOF score: {}'.format(log_loss(train_data[TARGET_NAME].values, oof_pred.data)))\n",
    "print('TEST score: {}'.format(log_loss(test_data[TARGET_NAME].values, test_pred.data)))"
   ]
  },
  {
   "cell_type": "code",
   "execution_count": 18,
   "id": "a4c1c65f",
   "metadata": {},
   "outputs": [
    {
     "name": "stdout",
     "output_type": "stream",
     "text": [
      "Check aucs train...\n",
      "Class 1 train auc score: 0.9757588386821228\n",
      "Class 2 train auc score: 0.46633907871180197\n",
      "Class 3 train auc score: 0.5097782467772134\n",
      "Class 4 train auc score: 0.32090542570496805\n",
      "Class 5 train auc score: 0.4156428008726215\n",
      "Class 6 train auc score: 0.34357686251799546\n",
      "Class 7 train auc score: 0.4649804163182678\n",
      "Class 8 train auc score: 0.5229800772191633\n",
      "Class 9 train auc score: 0.5410695767784214\n",
      "Class 10 train auc score: 0.6197792124980073\n",
      "Class 11 train auc score: 0.4833727352259598\n",
      "Class 12 train auc score: 0.618421320572214\n",
      "Class 13 train auc score: 0.9889034418642875\n",
      "Class 14 train auc score: 0.5074059111511815\n",
      "Class 15 train auc score: 0.5039439953569018\n",
      "Class 16 train auc score: 0.5852892582063804\n",
      "Class 17 train auc score: 0.4754505057029379\n",
      "Class 18 train auc score: 0.6931322194429612\n",
      "Class 19 train auc score: 0.6614709594694769\n",
      "Class 20 train auc score: 0.49150559511698877\n",
      "Check aucs test...\n",
      "Class 1 test auc score: 0.9825379680544646\n",
      "Class 2 test auc score: 0.41526422764227644\n",
      "Class 3 test auc score: 0.5044438073394496\n",
      "Class 4 test auc score: 0.24362420302537813\n",
      "Class 5 test auc score: 0.3862456140350877\n",
      "Class 6 test auc score: 0.40421667421497587\n",
      "Class 7 test auc score: 0.45980179329872584\n",
      "Class 8 test auc score: 0.5958479740625688\n",
      "Class 9 test auc score: 0.6141051096073585\n",
      "Class 10 test auc score: 0.7178487592219986\n",
      "Class 11 test auc score: 0.4634703196347032\n",
      "Class 12 test auc score: 0.6522470238095237\n",
      "Class 13 test auc score: 0.9939847417840376\n",
      "Class 14 test auc score: 0.5064410908565412\n",
      "Class 15 test auc score: 0.4594660969080774\n",
      "Class 16 test auc score: 0.5503725490196079\n",
      "Class 17 test auc score: 0.5104041466346154\n",
      "Class 18 test auc score: 0.7542732558139535\n",
      "Class 19 test auc score: 0.6952054794520548\n",
      "Class 20 test auc score: 0.448512585812357\n"
     ]
    }
   ],
   "source": [
    "for dat, df, name in zip([oof_pred, test_pred], [train_data, test_data], ['train', 'test']):\n",
    "    print('Check aucs {0}...'.format(name))\n",
    "    for cl in range(1, 21):\n",
    "        sc = roc_auc_score((df[TARGET_NAME].values == cl).astype(np.float32), dat.data[:, cl])\n",
    "        print('Class {0} {1} auc score: {2}'.format(cl, name, sc))"
   ]
  }
 ],
 "metadata": {
  "kernelspec": {
   "display_name": "Python 3 (ipykernel)",
   "language": "python",
   "name": "python3"
  },
  "language_info": {
   "codemirror_mode": {
    "name": "ipython",
    "version": 3
   },
   "file_extension": ".py",
   "mimetype": "text/x-python",
   "name": "python",
   "nbconvert_exporter": "python",
   "pygments_lexer": "ipython3",
   "version": "3.11.9"
  },
  "papermill": {
   "default_parameters": {},
   "duration": 24527.778551,
   "end_time": "2021-08-16T03:13:40.868367",
   "environment_variables": {},
   "exception": null,
   "input_path": "__notebook__.ipynb",
   "output_path": "__notebook__.ipynb",
   "parameters": {},
   "start_time": "2021-08-15T20:24:53.089816",
   "version": "2.3.3"
  }
 },
 "nbformat": 4,
 "nbformat_minor": 5
}
